{
  "nbformat": 4,
  "nbformat_minor": 0,
  "metadata": {
    "colab": {
      "provenance": [],
      "authorship_tag": "ABX9TyPTL5etDjf4WBnAH3q0k3m4",
      "include_colab_link": true
    },
    "kernelspec": {
      "name": "python3",
      "display_name": "Python 3"
    },
    "language_info": {
      "name": "python"
    }
  },
  "cells": [
    {
      "cell_type": "markdown",
      "metadata": {
        "id": "view-in-github",
        "colab_type": "text"
      },
      "source": [
        "<a href=\"https://colab.research.google.com/github/vinicius-mattoso/GA_find_percolation/blob/main/Projeto_GA_Maze.ipynb\" target=\"_parent\"><img src=\"https://colab.research.google.com/assets/colab-badge.svg\" alt=\"Open In Colab\"/></a>"
      ]
    },
    {
      "cell_type": "markdown",
      "source": [
        "# libs import"
      ],
      "metadata": {
        "id": "FFzpzul39Bl5"
      }
    },
    {
      "cell_type": "code",
      "execution_count": 1,
      "metadata": {
        "id": "p57e8YDN8uZ0"
      },
      "outputs": [],
      "source": [
        "import random\n",
        "import numpy as np\n",
        "from matplotlib import colors\n",
        "# !pip install deap\n",
        "import matplotlib.pyplot as plt\n",
        "\n",
        "\n",
        "random.seed(10)"
      ]
    },
    {
      "cell_type": "markdown",
      "source": [
        "# Funções de visualização"
      ],
      "metadata": {
        "id": "irBZfk1m9HJo"
      }
    },
    {
      "cell_type": "markdown",
      "source": [
        "### Desenho do Maze"
      ],
      "metadata": {
        "id": "Xwd6Oqdo9Mmf"
      }
    },
    {
      "cell_type": "code",
      "source": [
        "# random.seed(10)\n",
        "def draw_maze(maze, starts, ends, path=None):\n",
        "    cmap = colors.ListedColormap(['white', 'black', 'red', 'blue'])\n",
        "    bounds = [0, 0.5, 1.5, 2.5, 3.5]\n",
        "    norm = colors.BoundaryNorm(bounds, cmap.N)\n",
        "\n",
        "    fig, ax = plt.subplots(figsize=(5, 5))\n",
        "    ax.imshow(maze, cmap=cmap, norm=norm)\n",
        "\n",
        "    for start in starts:\n",
        "        ax.plot(start[1], start[0], 'go', markersize=5)\n",
        "\n",
        "    for end in ends:\n",
        "        ax.plot(end[1], end[0], 'ro', markersize=5)\n",
        "\n",
        "    if path is not None:\n",
        "        for i in range(len(path)-1):\n",
        "            curr_pos = path[i]\n",
        "            next_pos = path[i+1]\n",
        "            ax.plot([curr_pos[1], next_pos[1]], [curr_pos[0], next_pos[0]], 'b-', linewidth=3)\n",
        "\n",
        "    plt.show()"
      ],
      "metadata": {
        "id": "A1VsKaAm9KIT"
      },
      "execution_count": 2,
      "outputs": []
    },
    {
      "cell_type": "markdown",
      "source": [
        "### Visualização do Maze + path"
      ],
      "metadata": {
        "id": "cgvc7hcX9PF_"
      }
    },
    {
      "cell_type": "code",
      "source": [
        "def visualize_maze(maze, start_points, end_points, path):\n",
        "    maze_height = len(maze)\n",
        "    maze_width = len(maze[0])\n",
        "\n",
        "    # Create a figure and axis for the maze visualization\n",
        "    fig, ax = plt.subplots()\n",
        "\n",
        "    # Draw the maze\n",
        "    for i in range(maze_height):\n",
        "        for j in range(maze_width):\n",
        "            if maze[i][j] == 1:  # Wall\n",
        "                ax.add_patch(plt.Rectangle((j, maze_height - i - 1), 1, 1, facecolor='black'))\n",
        "\n",
        "    # Scatter plot the path\n",
        "    path_x = [point[1] + 0.5 for point in path]\n",
        "    path_y = [maze_height - point[0] - 0.5 for point in path]\n",
        "    ax.scatter(path_x, path_y, color='blue', marker='o')\n",
        "\n",
        "    # Mark the start and end points\n",
        "    for start_point in start_points:\n",
        "        ax.scatter(start_point[1] + 0.5, maze_height - start_point[0] - 0.5, color='green', marker='s', s=100, label='Start')\n",
        "    for end_point in end_points:\n",
        "        ax.scatter(end_point[1] + 0.5, maze_height - end_point[0] - 0.5, color='red', marker='s', s=100, label='End')\n",
        "\n",
        "    # Set axis limits and labels\n",
        "    ax.set_xlim([0, maze_width])\n",
        "    ax.set_ylim([0, maze_height])\n",
        "    ax.set_aspect('equal')\n",
        "    ax.set_xticks(range(maze_width))\n",
        "    ax.set_yticks(range(maze_height))\n",
        "    ax.set_xticklabels(range(maze_width))\n",
        "    ax.set_yticklabels(range(maze_height))\n",
        "\n",
        "    # Add a legend\n",
        "    ax.legend(loc='best')\n",
        "\n",
        "    # Show the maze visualization\n",
        "    plt.show()"
      ],
      "metadata": {
        "id": "NO5T4tVR9UpP"
      },
      "execution_count": 3,
      "outputs": []
    },
    {
      "cell_type": "markdown",
      "source": [
        "### Função para criação do Maze"
      ],
      "metadata": {
        "id": "QYhe5xuc9W72"
      }
    },
    {
      "cell_type": "code",
      "source": [
        "# random.seed(10)\n",
        "def create_maze(size):\n",
        "    maze = np.zeros(size, dtype=int)\n",
        "\n",
        "    # Generate random walls\n",
        "    for i in range(size[0]):\n",
        "        for j in range(size[1]):\n",
        "            # if random.random() < 0.3:\n",
        "              if random.random() < 0.25:\n",
        "                maze[i, j] = 1\n",
        "\n",
        "    return maze"
      ],
      "metadata": {
        "id": "GxW-neuS9bnv"
      },
      "execution_count": 4,
      "outputs": []
    },
    {
      "cell_type": "markdown",
      "source": [
        "### Rotina que vai receber o maze e retornar uma lista com a entrada e a saída"
      ],
      "metadata": {
        "id": "xhSKTDjf9cie"
      }
    },
    {
      "cell_type": "code",
      "source": [
        "def get_strats_and_ends (maze):\n",
        "  start = 0\n",
        "  end = len(maze)-1\n",
        "  entradas = maze[:,0]\n",
        "  lista_entradas = []\n",
        "  linhas_entradas = np.where(entradas == 0)\n",
        "  linhas_entradas = linhas_entradas[0].tolist()\n",
        "  for i in range(0,len(linhas_entradas)):\n",
        "      # print(i)\n",
        "      lista_entradas.append((linhas_entradas[i], start))\n",
        "\n",
        "  saidas = maze[:,-1]\n",
        "  lista_saidas = []\n",
        "  linhas_saidas = np.where(saidas == 0)\n",
        "  linhas_saidas = linhas_saidas[0].tolist()\n",
        "  for i in range(0,len(linhas_saidas)):\n",
        "      # print(i)\n",
        "      lista_saidas.append((linhas_saidas[i], end))\n",
        "\n",
        "\n",
        "  starts = lista_entradas\n",
        "  ends = lista_saidas\n",
        "\n",
        "  return starts,ends"
      ],
      "metadata": {
        "id": "tap3taUf-KaX"
      },
      "execution_count": 5,
      "outputs": []
    },
    {
      "cell_type": "markdown",
      "source": [
        "### Rotina que faz o decode da lista da seuquencia de passos"
      ],
      "metadata": {
        "id": "a_CbR9RMZGcu"
      }
    },
    {
      "cell_type": "code",
      "source": [
        "def decode_gene(gene, start_point, end_point, maze):\n",
        "    movements = {\n",
        "        1: (-1, 0),  # Up\n",
        "        2: (1, 0),   # Down\n",
        "        3: (0, -1),  # Left\n",
        "        4: (0, 1)    # Right\n",
        "    }\n",
        "    \n",
        "    current_point = start_point#[0,0]\n",
        "    path = [[current_point[0], current_point[1]]]\n",
        "    \n",
        "    for direction in gene:\n",
        "        movement = movements[direction]\n",
        "        new_point = (current_point[0] + movement[0], current_point[1] + movement[1])\n",
        "        \n",
        "        if (\n",
        "            new_point[0] >= 0 and new_point[0] < len(maze) and\n",
        "            new_point[1] >= 0 and new_point[1] < len(maze[0]) and\n",
        "            maze[new_point[0]][new_point[1]] == 0\n",
        "        ):\n",
        "            current_point = new_point\n",
        "            path.append([current_point[0], current_point[1]])\n",
        "        \n",
        "        if current_point == end_point:\n",
        "            break\n",
        "    \n",
        "    return path"
      ],
      "metadata": {
        "id": "4dxQB9Y3ZFjs"
      },
      "execution_count": 6,
      "outputs": []
    },
    {
      "cell_type": "markdown",
      "source": [
        "### Criação da função de decode\n",
        "\n",
        "OBS: Vamos fazer uma função que retorna a distância entre o ultimo ponto decodificado e o final do maze.\n",
        "\n",
        "Caso chegue antes, ele precisa parar de decodificar.\n",
        "\n",
        "O retorno dela vai ser a quantidade de passos percorridos.\n",
        "\n",
        "Essa distância vai ser utlizado para o calculo da fitness (1/dist), e vamos buscar maximizar isso."
      ],
      "metadata": {
        "id": "8dweekZS--pP"
      }
    },
    {
      "cell_type": "code",
      "source": [
        "start = 0\n",
        "end  = 5\n",
        "\n",
        "maze = create_maze((end+1, end+1))\n",
        "maze.shape"
      ],
      "metadata": {
        "colab": {
          "base_uri": "https://localhost:8080/"
        },
        "id": "8gP7wF0I-UKB",
        "outputId": "500d6060-faa4-4927-bb1e-060622d76402"
      },
      "execution_count": 7,
      "outputs": [
        {
          "output_type": "execute_result",
          "data": {
            "text/plain": [
              "(6, 6)"
            ]
          },
          "metadata": {},
          "execution_count": 7
        }
      ]
    },
    {
      "cell_type": "markdown",
      "source": [
        "### Criação de um path de gabarito para avaliar as funções"
      ],
      "metadata": {
        "id": "ki7ERih6U61A"
      }
    },
    {
      "cell_type": "code",
      "source": [
        "caminho_gabarito = [4,4,2,2,4,4,4,1,1]"
      ],
      "metadata": {
        "id": "f_kPPNqB-uXu"
      },
      "execution_count": 8,
      "outputs": []
    },
    {
      "cell_type": "markdown",
      "source": [
        "### Criação dos starts and end points"
      ],
      "metadata": {
        "id": "5mBRTIBnU--0"
      }
    },
    {
      "cell_type": "code",
      "source": [
        "starts,ends = get_strats_and_ends(maze)\n",
        "starts"
      ],
      "metadata": {
        "colab": {
          "base_uri": "https://localhost:8080/"
        },
        "id": "acuOvKDlVCEq",
        "outputId": "0f4d0f5a-cd04-4be5-e238-2a4df23436f2"
      },
      "execution_count": 9,
      "outputs": [
        {
          "output_type": "execute_result",
          "data": {
            "text/plain": [
              "[(0, 0), (1, 0), (2, 0), (3, 0), (4, 0), (5, 0)]"
            ]
          },
          "metadata": {},
          "execution_count": 9
        }
      ]
    },
    {
      "cell_type": "markdown",
      "source": [
        "### Desenhando as entradas e saídas no maze"
      ],
      "metadata": {
        "id": "4gkYqe02VpzV"
      }
    },
    {
      "cell_type": "code",
      "source": [
        "draw_maze(maze, starts, ends)"
      ],
      "metadata": {
        "colab": {
          "base_uri": "https://localhost:8080/",
          "height": 445
        },
        "id": "huOXPMnMVIHf",
        "outputId": "4ca34d25-8fe5-4c3b-ce3b-22adcf5096eb"
      },
      "execution_count": 10,
      "outputs": [
        {
          "output_type": "display_data",
          "data": {
            "text/plain": [
              "<Figure size 500x500 with 1 Axes>"
            ],
            "image/png": "[encoded data removed]"
          },
          "metadata": {}
        }
      ]
    },
    {
      "cell_type": "markdown",
      "source": [
        "#### Exibindo um resultado de caminho"
      ],
      "metadata": {
        "id": "nJiTyXy6V-0D"
      }
    },
    {
      "cell_type": "code",
      "source": [
        "caminho_gabarito"
      ],
      "metadata": {
        "colab": {
          "base_uri": "https://localhost:8080/"
        },
        "id": "96zS6K_PYpgX",
        "outputId": "6303f31f-d17f-4ec7-895a-59fe0e28818a"
      },
      "execution_count": 11,
      "outputs": [
        {
          "output_type": "execute_result",
          "data": {
            "text/plain": [
              "[4, 4, 2, 2, 4, 4, 4, 1, 1]"
            ]
          },
          "metadata": {},
          "execution_count": 11
        }
      ]
    },
    {
      "cell_type": "code",
      "source": [
        "starts"
      ],
      "metadata": {
        "colab": {
          "base_uri": "https://localhost:8080/"
        },
        "id": "IQ37O2JpZVdV",
        "outputId": "b97dc92e-53cb-451f-b681-621f452cdda6"
      },
      "execution_count": 12,
      "outputs": [
        {
          "output_type": "execute_result",
          "data": {
            "text/plain": [
              "[(0, 0), (1, 0), (2, 0), (3, 0), (4, 0), (5, 0)]"
            ]
          },
          "metadata": {},
          "execution_count": 12
        }
      ]
    },
    {
      "cell_type": "code",
      "source": [
        "list(starts[0])"
      ],
      "metadata": {
        "colab": {
          "base_uri": "https://localhost:8080/"
        },
        "id": "3dIA9Tc_ZVT5",
        "outputId": "c9f075dc-7706-4f41-d2ca-e14662d88794"
      },
      "execution_count": 13,
      "outputs": [
        {
          "output_type": "execute_result",
          "data": {
            "text/plain": [
              "[0, 0]"
            ]
          },
          "metadata": {},
          "execution_count": 13
        }
      ]
    },
    {
      "cell_type": "code",
      "source": [
        "start_point = list(starts[0])\n",
        "end_point = list(ends[0])"
      ],
      "metadata": {
        "id": "O26yF3JOZSvu"
      },
      "execution_count": 14,
      "outputs": []
    },
    {
      "cell_type": "code",
      "source": [
        "caminho_gabarito_list = decode_gene(caminho_gabarito, start_point, end_point, maze)\n",
        "caminho_gabarito_list"
      ],
      "metadata": {
        "colab": {
          "base_uri": "https://localhost:8080/"
        },
        "id": "5lz5dkdjYsgv",
        "outputId": "541dd6b2-e094-4339-abc2-a528a559ada4"
      },
      "execution_count": 15,
      "outputs": [
        {
          "output_type": "execute_result",
          "data": {
            "text/plain": [
              "[[0, 0],\n",
              " [0, 1],\n",
              " [0, 2],\n",
              " [1, 2],\n",
              " [2, 2],\n",
              " [2, 3],\n",
              " [2, 4],\n",
              " [2, 5],\n",
              " [1, 5],\n",
              " [0, 5]]"
            ]
          },
          "metadata": {},
          "execution_count": 15
        }
      ]
    },
    {
      "cell_type": "code",
      "source": [
        "end_point"
      ],
      "metadata": {
        "colab": {
          "base_uri": "https://localhost:8080/"
        },
        "id": "I7FqGdC4Z3OL",
        "outputId": "3c96b509-417b-483f-b291-2aa3200326b2"
      },
      "execution_count": 16,
      "outputs": [
        {
          "output_type": "execute_result",
          "data": {
            "text/plain": [
              "[0, 5]"
            ]
          },
          "metadata": {},
          "execution_count": 16
        }
      ]
    },
    {
      "cell_type": "markdown",
      "source": [
        "### ATENÇÃO: Para fazer o desenho, recebemos uma lista de tuplas, pois cada tupla é uma posição no maze"
      ],
      "metadata": {
        "id": "TTvpF7Tpb3YC"
      }
    },
    {
      "cell_type": "code",
      "source": [
        "start_point_tuple_list = [starts[0]]\n",
        "end_point_tuple_list = [ends[0]]"
      ],
      "metadata": {
        "id": "ZbPQlUnia9EW"
      },
      "execution_count": 17,
      "outputs": []
    },
    {
      "cell_type": "code",
      "source": [
        "draw_maze(maze, start_point_tuple_list, end_point_tuple_list,caminho_gabarito_list)\n"
      ],
      "metadata": {
        "colab": {
          "base_uri": "https://localhost:8080/",
          "height": 445
        },
        "id": "-hBXUG_HVtyK",
        "outputId": "5b3658e6-d683-40e2-e3e2-8c9bb633b893"
      },
      "execution_count": 18,
      "outputs": [
        {
          "output_type": "display_data",
          "data": {
            "text/plain": [
              "<Figure size 500x500 with 1 Axes>"
            ],
            "image/png": "[encoded data removed]"
          },
          "metadata": {}
        }
      ]
    },
    {
      "cell_type": "code",
      "source": [
        "visualize_maze(maze, start_point_tuple_list, end_point_tuple_list,caminho_gabarito_list)"
      ],
      "metadata": {
        "colab": {
          "base_uri": "https://localhost:8080/",
          "height": 430
        },
        "id": "ooFVSKvzdP91",
        "outputId": "12a65f18-5f9b-473a-a7dc-0089dd12d49f"
      },
      "execution_count": 19,
      "outputs": [
        {
          "output_type": "display_data",
          "data": {
            "text/plain": [
              "<Figure size 640x480 with 1 Axes>"
            ],
            "image/png": "[encoded data removed]"
          },
          "metadata": {}
        }
      ]
    },
    {
      "cell_type": "code",
      "source": [],
      "metadata": {
        "id": "fRi1Zm76dTEa"
      },
      "execution_count": 19,
      "outputs": []
    }
  ]
}